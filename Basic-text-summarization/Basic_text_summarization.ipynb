{
  "nbformat": 4,
  "nbformat_minor": 0,
  "metadata": {
    "colab": {
      "provenance": []
    },
    "kernelspec": {
      "name": "python3",
      "display_name": "Python 3"
    },
    "language_info": {
      "name": "python"
    }
  },
  "cells": [
    {
      "cell_type": "markdown",
      "source": [
        "# Out sample data"
      ],
      "metadata": {
        "id": "9dVGQ1WkQQrf"
      }
    },
    {
      "cell_type": "code",
      "execution_count": 28,
      "metadata": {
        "id": "IAX_3IiXPcwI"
      },
      "outputs": [],
      "source": [
        "article_text = \"Just what is agility in the context of software engineering work? Ivar Jacobson [Jac02a] provides a useful discussion: Agility  has become today’s buzzword when describing a modern software process. Everyone is agile. An agile team is a nimble team able to appropriately respond to changes. Change is what software development is very much about. Changes in the software being built, changes to the team members, changes because of new technology, changes of all kinds that may have an impact on the product they build or the project that creates the product. Support for changes should be built-in everything we do in software, something we embrace because it is the heart and soul of software. An agile team recognizes that software is developed by individuals working in teams and that the skills of these people, their ability to collaborate is at the core for the success of the project.In Jacobson’s view, the pervasiveness of change is the primary driver for agility. Software engineers must be quick on their feet if they are to accommodate the rapid changes that Jacobson describes.  But agility is more than an effective response to change. It also encompasses the philosophy espoused in the manifesto noted at the beginning of this chapter. It encourages team structures and attitudes that make communication (among team members, between technologists and business people, between software engineers and their managers) more facile. It emphasizes rapid delivery of operational software and deemphasizes the importance of intermediate work products (not always a good thing); it adopts the customer as a part of the development team and works to eliminate the “us and them” attitude that continues to pervade many software projects; it recognizes that planning in an uncertain world has its limits and that a project plan must be ﬂ exible.  Agility can be applied to any software process. However, to accomplish this, it is essential that the process be designed in a way that allows the project team to adapt tasks and to streamline them, conduct planning in a way that understands the ﬂ uidity of an agile development approach, eliminate all but the most essential work products and keep them lean, and emphasize an incremental delivery strategy that gets working software to the customer as rapidly as feasible for the product type and operational environment.\""
      ]
    },
    {
      "cell_type": "markdown",
      "source": [
        "# Import Libraries"
      ],
      "metadata": {
        "id": "HKDlsf4eQUqq"
      }
    },
    {
      "cell_type": "code",
      "source": [
        "import re\n",
        "import nltk\n",
        "import nltk\n",
        "nltk.download('punkt_tab')\n",
        "nltk.download('stopwords')"
      ],
      "metadata": {
        "colab": {
          "base_uri": "https://localhost:8080/"
        },
        "id": "lIqTAxcnQIqf",
        "outputId": "de09cb76-c3ce-40b1-af17-0360ee638a25"
      },
      "execution_count": 29,
      "outputs": [
        {
          "output_type": "stream",
          "name": "stderr",
          "text": [
            "[nltk_data] Downloading package punkt_tab to /root/nltk_data...\n",
            "[nltk_data]   Package punkt_tab is already up-to-date!\n",
            "[nltk_data] Downloading package stopwords to /root/nltk_data...\n",
            "[nltk_data]   Package stopwords is already up-to-date!\n"
          ]
        },
        {
          "output_type": "execute_result",
          "data": {
            "text/plain": [
              "True"
            ]
          },
          "metadata": {},
          "execution_count": 29
        }
      ]
    },
    {
      "cell_type": "markdown",
      "source": [
        "# Data Processing"
      ],
      "metadata": {
        "id": "iZ19WvA9QZs0"
      }
    },
    {
      "cell_type": "code",
      "source": [
        "article_text = article_text.lower()"
      ],
      "metadata": {
        "collapsed": true,
        "id": "6d1Blw4YQYpM"
      },
      "execution_count": 30,
      "outputs": []
    },
    {
      "cell_type": "code",
      "source": [
        "clean_text = re.sub('[^a-zA-Z]', ' ', article_text)\n",
        "clean_text = re.sub('\\s+',' ', clean_text)\n",
        "article_text"
      ],
      "metadata": {
        "colab": {
          "base_uri": "https://localhost:8080/",
          "height": 123
        },
        "id": "4TUE_ZY4Qmlg",
        "outputId": "4eb52864-68c7-41b4-92e4-fc9d1852889c"
      },
      "execution_count": 31,
      "outputs": [
        {
          "output_type": "execute_result",
          "data": {
            "text/plain": [
              "'just what is agility in the context of software engineering work? ivar jacobson [jac02a] provides a useful discussion: agility  has become today’s buzzword when describing a modern software process. everyone is agile. an agile team is a nimble team able to appropriately respond to changes. change is what software development is very much about. changes in the software being built, changes to the team members, changes because of new technology, changes of all kinds that may have an impact on the product they build or the project that creates the product. support for changes should be built-in everything we do in software, something we embrace because it is the heart and soul of software. an agile team recognizes that software is developed by individuals working in teams and that the skills of these people, their ability to collaborate is at the core for the success of the project.in jacobson’s view, the pervasiveness of change is the primary driver for agility. software engineers must be quick on their feet if they are to accommodate the rapid changes that jacobson describes.  but agility is more than an effective response to change. it also encompasses the philosophy espoused in the manifesto noted at the beginning of this chapter. it encourages team structures and attitudes that make communication (among team members, between technologists and business people, between software engineers and their managers) more facile. it emphasizes rapid delivery of operational software and deemphasizes the importance of intermediate work products (not always a good thing); it adopts the customer as a part of the development team and works to eliminate the “us and them” attitude that continues to pervade many software projects; it recognizes that planning in an uncertain world has its limits and that a project plan must be ﬂ exible.  agility can be applied to any software process. however, to accomplish this, it is essential that the process be designed in a way that allows the project team to adapt tasks and to streamline them, conduct planning in a way that understands the ﬂ uidity of an agile development approach, eliminate all but the most essential work products and keep them lean, and emphasize an incremental delivery strategy that gets working software to the customer as rapidly as feasible for the product type and operational environment.'"
            ],
            "application/vnd.google.colaboratory.intrinsic+json": {
              "type": "string"
            }
          },
          "metadata": {},
          "execution_count": 31
        }
      ]
    },
    {
      "cell_type": "code",
      "source": [
        "sentence_list = nltk.sent_tokenize(article_text)\n",
        "sentence_list"
      ],
      "metadata": {
        "colab": {
          "base_uri": "https://localhost:8080/"
        },
        "id": "86wwIuUyRliR",
        "outputId": "10f87e49-9bbd-4ca8-b955-41605a1b7112"
      },
      "execution_count": 32,
      "outputs": [
        {
          "output_type": "execute_result",
          "data": {
            "text/plain": [
              "['just what is agility in the context of software engineering work?',\n",
              " 'ivar jacobson [jac02a] provides a useful discussion: agility  has become today’s buzzword when describing a modern software process.',\n",
              " 'everyone is agile.',\n",
              " 'an agile team is a nimble team able to appropriately respond to changes.',\n",
              " 'change is what software development is very much about.',\n",
              " 'changes in the software being built, changes to the team members, changes because of new technology, changes of all kinds that may have an impact on the product they build or the project that creates the product.',\n",
              " 'support for changes should be built-in everything we do in software, something we embrace because it is the heart and soul of software.',\n",
              " 'an agile team recognizes that software is developed by individuals working in teams and that the skills of these people, their ability to collaborate is at the core for the success of the project.in jacobson’s view, the pervasiveness of change is the primary driver for agility.',\n",
              " 'software engineers must be quick on their feet if they are to accommodate the rapid changes that jacobson describes.',\n",
              " 'but agility is more than an effective response to change.',\n",
              " 'it also encompasses the philosophy espoused in the manifesto noted at the beginning of this chapter.',\n",
              " 'it encourages team structures and attitudes that make communication (among team members, between technologists and business people, between software engineers and their managers) more facile.',\n",
              " 'it emphasizes rapid delivery of operational software and deemphasizes the importance of intermediate work products (not always a good thing); it adopts the customer as a part of the development team and works to eliminate the “us and them” attitude that continues to pervade many software projects; it recognizes that planning in an uncertain world has its limits and that a project plan must be ﬂ exible.',\n",
              " 'agility can be applied to any software process.',\n",
              " 'however, to accomplish this, it is essential that the process be designed in a way that allows the project team to adapt tasks and to streamline them, conduct planning in a way that understands the ﬂ uidity of an agile development approach, eliminate all but the most essential work products and keep them lean, and emphasize an incremental delivery strategy that gets working software to the customer as rapidly as feasible for the product type and operational environment.']"
            ]
          },
          "metadata": {},
          "execution_count": 32
        }
      ]
    },
    {
      "cell_type": "code",
      "source": [
        "stopwords = nltk.corpus.stopwords.words('english')"
      ],
      "metadata": {
        "id": "mOo1GSlaSEsw"
      },
      "execution_count": 33,
      "outputs": []
    },
    {
      "cell_type": "code",
      "source": [
        "word_frequencies = {}\n",
        "for word in nltk.word_tokenize(clean_text):\n",
        "  if word not in stopwords:\n",
        "    if word not in word_frequencies:\n",
        "      word_frequencies[word] = 1\n",
        "    else:\n",
        "      word_frequencies[word] += 1"
      ],
      "metadata": {
        "id": "xrJQnUDNStV9"
      },
      "execution_count": 36,
      "outputs": []
    },
    {
      "cell_type": "code",
      "source": [
        "maximum_frequency = max(word_frequencies.values())"
      ],
      "metadata": {
        "id": "DnY2w9VHTZTW"
      },
      "execution_count": 38,
      "outputs": []
    },
    {
      "cell_type": "code",
      "source": [
        "for word in word_frequencies:\n",
        "  word_frequencies[word] = word_frequencies[word] / maximum_frequency"
      ],
      "metadata": {
        "id": "X1OM1leoTegQ"
      },
      "execution_count": 40,
      "outputs": []
    },
    {
      "cell_type": "markdown",
      "source": [
        "# Calculate sentence scores"
      ],
      "metadata": {
        "id": "4aDev4j2T1x1"
      }
    },
    {
      "cell_type": "code",
      "source": [
        "sentence_scores = {}\n",
        "\n",
        "for sentence in sentence_list:\n",
        "  for word in nltk.word_tokenize(sentence):\n",
        "    if word in word_frequencies and len(sentence.split(' ')) < 30:\n",
        "      if sentence not in sentence_scores:\n",
        "        sentence_scores[sentence] = word_frequencies[word]\n",
        "      else:\n",
        "        sentence_scores[sentence] += word_frequencies[word]"
      ],
      "metadata": {
        "id": "PNK8_vN_Tm6m"
      },
      "execution_count": 43,
      "outputs": []
    },
    {
      "cell_type": "code",
      "source": [
        "word_frequencies"
      ],
      "metadata": {
        "colab": {
          "base_uri": "https://localhost:8080/"
        },
        "id": "dPY1pWDcUsAC",
        "outputId": "910f4174-198f-45fe-e921-86d4dd637bdf"
      },
      "execution_count": 44,
      "outputs": [
        {
          "output_type": "execute_result",
          "data": {
            "text/plain": [
              "{'agility': 0.38461538461538464,\n",
              " 'context': 0.07692307692307693,\n",
              " 'software': 1.0,\n",
              " 'engineering': 0.07692307692307693,\n",
              " 'work': 0.23076923076923078,\n",
              " 'ivar': 0.07692307692307693,\n",
              " 'jacobson': 0.23076923076923078,\n",
              " 'jac': 0.07692307692307693,\n",
              " 'provides': 0.07692307692307693,\n",
              " 'useful': 0.07692307692307693,\n",
              " 'discussion': 0.07692307692307693,\n",
              " 'become': 0.07692307692307693,\n",
              " 'today': 0.07692307692307693,\n",
              " 'buzzword': 0.07692307692307693,\n",
              " 'describing': 0.07692307692307693,\n",
              " 'modern': 0.07692307692307693,\n",
              " 'process': 0.23076923076923078,\n",
              " 'everyone': 0.07692307692307693,\n",
              " 'agile': 0.3076923076923077,\n",
              " 'team': 0.6153846153846154,\n",
              " 'nimble': 0.07692307692307693,\n",
              " 'able': 0.07692307692307693,\n",
              " 'appropriately': 0.07692307692307693,\n",
              " 'respond': 0.07692307692307693,\n",
              " 'changes': 0.5384615384615384,\n",
              " 'change': 0.23076923076923078,\n",
              " 'development': 0.23076923076923078,\n",
              " 'much': 0.07692307692307693,\n",
              " 'built': 0.15384615384615385,\n",
              " 'members': 0.15384615384615385,\n",
              " 'new': 0.07692307692307693,\n",
              " 'technology': 0.07692307692307693,\n",
              " 'kinds': 0.07692307692307693,\n",
              " 'may': 0.07692307692307693,\n",
              " 'impact': 0.07692307692307693,\n",
              " 'product': 0.23076923076923078,\n",
              " 'build': 0.07692307692307693,\n",
              " 'project': 0.3076923076923077,\n",
              " 'creates': 0.07692307692307693,\n",
              " 'support': 0.07692307692307693,\n",
              " 'everything': 0.07692307692307693,\n",
              " 'something': 0.07692307692307693,\n",
              " 'embrace': 0.07692307692307693,\n",
              " 'heart': 0.07692307692307693,\n",
              " 'soul': 0.07692307692307693,\n",
              " 'recognizes': 0.15384615384615385,\n",
              " 'developed': 0.07692307692307693,\n",
              " 'individuals': 0.07692307692307693,\n",
              " 'working': 0.15384615384615385,\n",
              " 'teams': 0.07692307692307693,\n",
              " 'skills': 0.07692307692307693,\n",
              " 'people': 0.15384615384615385,\n",
              " 'ability': 0.07692307692307693,\n",
              " 'collaborate': 0.07692307692307693,\n",
              " 'core': 0.07692307692307693,\n",
              " 'success': 0.07692307692307693,\n",
              " 'view': 0.07692307692307693,\n",
              " 'pervasiveness': 0.07692307692307693,\n",
              " 'primary': 0.07692307692307693,\n",
              " 'driver': 0.07692307692307693,\n",
              " 'engineers': 0.15384615384615385,\n",
              " 'must': 0.15384615384615385,\n",
              " 'quick': 0.07692307692307693,\n",
              " 'feet': 0.07692307692307693,\n",
              " 'accommodate': 0.07692307692307693,\n",
              " 'rapid': 0.15384615384615385,\n",
              " 'describes': 0.07692307692307693,\n",
              " 'effective': 0.07692307692307693,\n",
              " 'response': 0.07692307692307693,\n",
              " 'also': 0.07692307692307693,\n",
              " 'encompasses': 0.07692307692307693,\n",
              " 'philosophy': 0.07692307692307693,\n",
              " 'espoused': 0.07692307692307693,\n",
              " 'manifesto': 0.07692307692307693,\n",
              " 'noted': 0.07692307692307693,\n",
              " 'beginning': 0.07692307692307693,\n",
              " 'chapter': 0.07692307692307693,\n",
              " 'encourages': 0.07692307692307693,\n",
              " 'structures': 0.07692307692307693,\n",
              " 'attitudes': 0.07692307692307693,\n",
              " 'make': 0.07692307692307693,\n",
              " 'communication': 0.07692307692307693,\n",
              " 'among': 0.07692307692307693,\n",
              " 'technologists': 0.07692307692307693,\n",
              " 'business': 0.07692307692307693,\n",
              " 'managers': 0.07692307692307693,\n",
              " 'facile': 0.07692307692307693,\n",
              " 'emphasizes': 0.07692307692307693,\n",
              " 'delivery': 0.15384615384615385,\n",
              " 'operational': 0.15384615384615385,\n",
              " 'deemphasizes': 0.07692307692307693,\n",
              " 'importance': 0.07692307692307693,\n",
              " 'intermediate': 0.07692307692307693,\n",
              " 'products': 0.15384615384615385,\n",
              " 'always': 0.07692307692307693,\n",
              " 'good': 0.07692307692307693,\n",
              " 'thing': 0.07692307692307693,\n",
              " 'adopts': 0.07692307692307693,\n",
              " 'customer': 0.15384615384615385,\n",
              " 'part': 0.07692307692307693,\n",
              " 'works': 0.07692307692307693,\n",
              " 'eliminate': 0.15384615384615385,\n",
              " 'us': 0.07692307692307693,\n",
              " 'attitude': 0.07692307692307693,\n",
              " 'continues': 0.07692307692307693,\n",
              " 'pervade': 0.07692307692307693,\n",
              " 'many': 0.07692307692307693,\n",
              " 'projects': 0.07692307692307693,\n",
              " 'planning': 0.15384615384615385,\n",
              " 'uncertain': 0.07692307692307693,\n",
              " 'world': 0.07692307692307693,\n",
              " 'limits': 0.07692307692307693,\n",
              " 'plan': 0.07692307692307693,\n",
              " 'exible': 0.07692307692307693,\n",
              " 'applied': 0.07692307692307693,\n",
              " 'however': 0.07692307692307693,\n",
              " 'accomplish': 0.07692307692307693,\n",
              " 'essential': 0.15384615384615385,\n",
              " 'designed': 0.07692307692307693,\n",
              " 'way': 0.15384615384615385,\n",
              " 'allows': 0.07692307692307693,\n",
              " 'adapt': 0.07692307692307693,\n",
              " 'tasks': 0.07692307692307693,\n",
              " 'streamline': 0.07692307692307693,\n",
              " 'conduct': 0.07692307692307693,\n",
              " 'understands': 0.07692307692307693,\n",
              " 'uidity': 0.07692307692307693,\n",
              " 'approach': 0.07692307692307693,\n",
              " 'keep': 0.07692307692307693,\n",
              " 'lean': 0.07692307692307693,\n",
              " 'emphasize': 0.07692307692307693,\n",
              " 'incremental': 0.07692307692307693,\n",
              " 'strategy': 0.07692307692307693,\n",
              " 'gets': 0.07692307692307693,\n",
              " 'rapidly': 0.07692307692307693,\n",
              " 'feasible': 0.07692307692307693,\n",
              " 'type': 0.07692307692307693,\n",
              " 'environment': 0.07692307692307693}"
            ]
          },
          "metadata": {},
          "execution_count": 44
        }
      ]
    },
    {
      "cell_type": "code",
      "source": [
        "sentence_scores"
      ],
      "metadata": {
        "colab": {
          "base_uri": "https://localhost:8080/"
        },
        "id": "yM770ILFUx3v",
        "outputId": "c8afa4c8-2f06-4f99-8cce-643bf866ac4b"
      },
      "execution_count": 45,
      "outputs": [
        {
          "output_type": "execute_result",
          "data": {
            "text/plain": [
              "{'just what is agility in the context of software engineering work?': 1.7692307692307694,\n",
              " 'ivar jacobson [jac02a] provides a useful discussion: agility  has become today’s buzzword when describing a modern software process.': 2.5384615384615383,\n",
              " 'everyone is agile.': 0.38461538461538464,\n",
              " 'an agile team is a nimble team able to appropriately respond to changes.': 2.3846153846153846,\n",
              " 'change is what software development is very much about.': 1.5384615384615385,\n",
              " 'support for changes should be built-in everything we do in software, something we embrace because it is the heart and soul of software.': 3.0,\n",
              " 'software engineers must be quick on their feet if they are to accommodate the rapid changes that jacobson describes.': 2.5384615384615383,\n",
              " 'but agility is more than an effective response to change.': 0.7692307692307694,\n",
              " 'it also encompasses the philosophy espoused in the manifesto noted at the beginning of this chapter.': 0.6153846153846154,\n",
              " 'it encourages team structures and attitudes that make communication (among team members, between technologists and business people, between software engineers and their managers) more facile.': 3.4615384615384612,\n",
              " 'agility can be applied to any software process.': 1.6923076923076925}"
            ]
          },
          "metadata": {},
          "execution_count": 45
        }
      ]
    },
    {
      "cell_type": "code",
      "source": [
        "import heapq\n",
        "summary = heapq.nlargest(5, sentence_scores, key=sentence_scores.get)\n",
        "\n",
        "print(\" \".join(summary))"
      ],
      "metadata": {
        "colab": {
          "base_uri": "https://localhost:8080/"
        },
        "id": "h_v0oy0QU3g_",
        "outputId": "c537b0c9-5d91-4790-e29b-af20e8b255d3"
      },
      "execution_count": 49,
      "outputs": [
        {
          "output_type": "stream",
          "name": "stdout",
          "text": [
            "it encourages team structures and attitudes that make communication (among team members, between technologists and business people, between software engineers and their managers) more facile. support for changes should be built-in everything we do in software, something we embrace because it is the heart and soul of software. ivar jacobson [jac02a] provides a useful discussion: agility  has become today’s buzzword when describing a modern software process. software engineers must be quick on their feet if they are to accommodate the rapid changes that jacobson describes. an agile team is a nimble team able to appropriately respond to changes.\n"
          ]
        }
      ]
    }
  ]
}